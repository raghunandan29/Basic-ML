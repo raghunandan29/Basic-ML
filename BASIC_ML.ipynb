{
  "nbformat": 4,
  "nbformat_minor": 0,
  "metadata": {
    "colab": {
      "name": "BASIC ML",
      "provenance": [],
      "authorship_tag": "ABX9TyPbbyrR7ItrETXxnqxf88Ef",
      "include_colab_link": true
    },
    "kernelspec": {
      "name": "python3",
      "display_name": "Python 3"
    },
    "language_info": {
      "name": "python"
    }
  },
  "cells": [
    {
      "cell_type": "markdown",
      "metadata": {
        "id": "view-in-github",
        "colab_type": "text"
      },
      "source": [
        "<a href=\"https://colab.research.google.com/github/raghunandan29/Basic-ML/blob/main/BASIC_ML.ipynb\" target=\"_parent\"><img src=\"https://colab.research.google.com/assets/colab-badge.svg\" alt=\"Open In Colab\"/></a>"
      ]
    },
    {
      "cell_type": "code",
      "metadata": {
        "id": "gBB0Sr_TXt5R"
      },
      "source": [
        "a=10\n",
        "b=20"
      ],
      "execution_count": null,
      "outputs": []
    },
    {
      "cell_type": "code",
      "metadata": {
        "id": "Dw7JZEXRRm5L"
      },
      "source": [
        "#addition\n",
        "c=a+b\n",
        "print(c)"
      ],
      "execution_count": null,
      "outputs": []
    },
    {
      "cell_type": "markdown",
      "metadata": {
        "id": "IVdCAbYJYOV2"
      },
      "source": [
        "the above code cell represents addition "
      ]
    },
    {
      "cell_type": "code",
      "metadata": {
        "id": "88pXHDaKYXMG"
      },
      "source": [
        "#multiplication\n",
        "c=a*b\n",
        "print(c)"
      ],
      "execution_count": null,
      "outputs": []
    },
    {
      "cell_type": "markdown",
      "metadata": {
        "id": "OC543TAIY7oJ"
      },
      "source": [
        "the above cell represents multiplication of two integers "
      ]
    },
    {
      "cell_type": "markdown",
      "metadata": {
        "id": "lj5EWEBZXw0X"
      },
      "source": [
        ""
      ]
    },
    {
      "cell_type": "code",
      "metadata": {
        "colab": {
          "base_uri": "https://localhost:8080/"
        },
        "id": "PnGpJ6P4YmNO",
        "outputId": "9f1025b3-a6e1-4843-d0fa-642a5284efe9"
      },
      "source": [
        "#subtraction\n",
        "c=b-a\n",
        "print(c)"
      ],
      "execution_count": null,
      "outputs": [
        {
          "output_type": "stream",
          "text": [
            "10\n"
          ],
          "name": "stdout"
        }
      ]
    },
    {
      "cell_type": "markdown",
      "metadata": {
        "id": "LcL0_u2mZPJE"
      },
      "source": [
        "the above cell represents subtraction of two integers"
      ]
    }
  ]
}